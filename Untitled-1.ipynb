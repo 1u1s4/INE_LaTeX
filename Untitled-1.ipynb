{
 "cells": [
  {
   "cell_type": "code",
   "execution_count": 1,
   "metadata": {},
   "outputs": [],
   "source": [
    "from reporteine import ReporteINE\n",
    "from time import time\n",
    "from datosipc import datosIPC\n",
    "from funcionesjo import mes_by_ordinal"
   ]
  },
  {
   "cell_type": "code",
   "execution_count": 2,
   "metadata": {},
   "outputs": [],
   "source": [
    "mes = 10\n",
    "anio = 2022\n",
    "datos = datosIPC(anio, mes)\n",
    "dgb = datos.series_Gba(0)"
   ]
  },
  {
   "cell_type": "markdown",
   "metadata": {},
   "source": [
    "## horizontales"
   ]
  },
  {
   "cell_type": "code",
   "execution_count": 3,
   "metadata": {},
   "outputs": [],
   "source": [
    "datos_gba = (dgb[202], dgb[203])#, dgb[228], dgb[229], dgb[232])"
   ]
  },
  {
   "cell_type": "markdown",
   "metadata": {},
   "source": [
    "## Raras"
   ]
  },
  {
   "cell_type": "code",
   "execution_count": 4,
   "metadata": {},
   "outputs": [],
   "source": [
    "datos_gba = dgb[240:244]"
   ]
  },
  {
   "cell_type": "code",
   "execution_count": 19,
   "metadata": {},
   "outputs": [
    {
     "name": "stdout",
     "output_type": "stream",
     "text": [
      "[83, 90, 99, 101] [125, 136, 165, 166]\n"
     ]
    }
   ],
   "source": [
    "finales = []\n",
    "inicios = []\n",
    "for gb in datos_gba:\n",
    "    f = max(gb[1], key=lambda x: x[1])[1]\n",
    "    i = min(gb[1], key=lambda x: x[1])[1]\n",
    "    f = int(f*1.2)\n",
    "    i = int(i*0.8)\n",
    "    finales.append(f)\n",
    "    inicios.append(i)\n",
    "print(inicios, finales)"
   ]
  },
  {
   "cell_type": "code",
   "execution_count": 20,
   "metadata": {},
   "outputs": [
    {
     "name": "stderr",
     "output_type": "stream",
     "text": [
      "R[write to console]: Skipping install of 'funcionesINE' from a github remote, the SHA1 (e3339794) has not changed since last install.\n",
      "  Use `force = TRUE` to force installation\n",
      "\n"
     ]
    }
   ],
   "source": [
    "mes_ = mes_by_ordinal(mes, abreviado=False).capitalize()\n",
    "fecha = f\"{mes_} {anio}\"\n",
    "reporte = ReporteINE(\"Prueba_IPC\", anio, mes)\n",
    "reporte.presentacion(datos.introduccion())\n",
    "#capitulo 4\n",
    "reporte.agregar_capitulo(\n",
    "    titulo=\"Anexos\",\n",
    "    anexo=True\n",
    ")\n",
    "for i, Gba in enumerate(datos_gba):\n",
    "    nombre = Gba[0]\n",
    "    datosGba = Gba[1]\n",
    "    desc = Gba[2]\n",
    "    f = finales[i]\n",
    "    i = inicios[i]\n",
    "    reporte.agregar_subcapitulo(\n",
    "        titulo=f\"Evolución del IPC del gasto básico {nombre}\",\n",
    "        titulo_grafico=\"IPC, base diciembre del 2010\",\n",
    "        descripcion_grafico=\"República de Guatemala, serie histórica, adimensional\",\n",
    "        descripcion=desc,\n",
    "        fuente=\"INE\",\n",
    "        tipo_grafico=\"lineal\",\n",
    "        data=datosGba,\n",
    "        opciones_grafico={\"precision\":2, \"Q4Etiquetas\":True, \"inicio\":i, \"final\":f}\n",
    "    )\n",
    "reporte.crear_reporte()"
   ]
  }
 ],
 "metadata": {
  "kernelspec": {
   "display_name": "Python 3.10.6 64-bit",
   "language": "python",
   "name": "python3"
  },
  "language_info": {
   "codemirror_mode": {
    "name": "ipython",
    "version": 3
   },
   "file_extension": ".py",
   "mimetype": "text/x-python",
   "name": "python",
   "nbconvert_exporter": "python",
   "pygments_lexer": "ipython3",
   "version": "3.10.6"
  },
  "orig_nbformat": 4,
  "vscode": {
   "interpreter": {
    "hash": "549303601b1024b9e300ce5f29c6b94d02e3162278eab942e2a1b6577abca927"
   }
  }
 },
 "nbformat": 4,
 "nbformat_minor": 2
}
