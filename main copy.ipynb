{
 "cells": [
  {
   "cell_type": "code",
   "execution_count": null,
   "metadata": {},
   "outputs": [],
   "source": [
    "from datosipc import datosIPC\n",
    "\n",
    "from funcionesjo import mes_by_ordinal\n",
    "from reporteine import ReporteINE"
   ]
  },
  {
   "cell_type": "code",
   "execution_count": null,
   "metadata": {},
   "outputs": [],
   "source": [
    "mes = 4\n",
    "anio = 2023\n",
    "mes_ = mes_by_ordinal(mes, abreviado=False).capitalize()\n",
    "fecha = f\"{mes_} {anio}\"\n",
    "datos = datosIPC(anio, mes, dbBackup=1)\n",
    "reporte = ReporteINE(\"Índice de Precios al Consumidor\", anio, mes)"
   ]
  },
  {
   "cell_type": "code",
   "execution_count": null,
   "metadata": {},
   "outputs": [],
   "source": [
    "subcap_data_imputacion = list(datos.serie_imputacion())\n",
    "eliminar = subcap_data_imputacion[0][-1]\n",
    "subcap_data_imputacion[0].remove(eliminar)\n",
    "subcap_data_imputacion[0].append(('Abr-2023', 1.60))\n",
    "subcap_data_imputacion[1] = 'El porcentaje de precios imputados en abril 2023 es de 1.60%. El mayor porcentaje de imputaciones fue en el mes de octubre 2022 con una cantidad de 5.28% y el menor se encuentra en el mes de abril 2023 con una cantidad de 1.60%.'"
   ]
  },
  {
   "cell_type": "code",
   "execution_count": null,
   "metadata": {},
   "outputs": [],
   "source": [
    "# capitulo 1\n",
    "reporte.presentacion(datos.introduccion())\n",
    "reporte.agregar_capitulo(\n",
    "    titulo=\"Detalle del operativo de campo del IPC\"\n",
    ")\n",
    "subcap_data = subcap_data_imputacion\n",
    "reporte.agregar_subcapitulo(\n",
    "    titulo=\"Imputación de precios\",\n",
    "    titulo_grafico=\"Histórico de imputación de precios\",\n",
    "    descripcion_grafico=\"República de Guatemala, serie histórica, porcentaje\",\n",
    "    descripcion=subcap_data[1],\n",
    "    fuente=\"INE\",\n",
    "    tipo_grafico=\"barra\",\n",
    "    data=subcap_data[0],\n",
    "    opciones_grafico={\"precision\":1}\n",
    ")\n",
    "subcap_data = datos.desagregacion_fuentes()\n",
    "reporte.agregar_subcapitulo(\n",
    "    titulo=\"Desagregación de fuentes\",\n",
    "    titulo_grafico=\"Desagregación de fuentes por tipo\",\n",
    "    descripcion_grafico=f\"República de Guatemala, {fecha}, porcentaje\",\n",
    "    descripcion=subcap_data[1],\n",
    "    fuente=\"INE\",\n",
    "    tipo_grafico=\"barra\",\n",
    "    data=subcap_data[0],\n",
    "    opciones_grafico={\"precision\":1}\n",
    ")"
   ]
  },
  {
   "cell_type": "code",
   "execution_count": null,
   "metadata": {},
   "outputs": [],
   "source": [
    "reporte.crear_reporte()\n",
    "reporte.compilar_reporte()\n",
    "reporte.compilar_reporte()"
   ]
  }
 ],
 "metadata": {
  "kernelspec": {
   "display_name": ".venv",
   "language": "python",
   "name": "python3"
  },
  "language_info": {
   "codemirror_mode": {
    "name": "ipython",
    "version": 3
   },
   "file_extension": ".py",
   "mimetype": "text/x-python",
   "name": "python",
   "nbconvert_exporter": "python",
   "pygments_lexer": "ipython3",
   "version": "3.11.3"
  },
  "orig_nbformat": 4,
  "vscode": {
   "interpreter": {
    "hash": "fe79f996457a7f8bf8e76b8c53d1ba6f92c4aa1913675e12f438e94f289a43f7"
   }
  }
 },
 "nbformat": 4,
 "nbformat_minor": 2
}
