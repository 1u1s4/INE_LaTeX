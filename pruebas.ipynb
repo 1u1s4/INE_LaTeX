{
 "cells": [
  {
   "cell_type": "code",
   "execution_count": null,
   "metadata": {},
   "outputs": [],
   "source": [
    "from datosipc import datosIPC\n",
    "\n",
    "from funcionesjo import mes_by_ordinal\n",
    "from reporteine import ReporteINE"
   ]
  },
  {
   "cell_type": "code",
   "execution_count": null,
   "metadata": {},
   "outputs": [],
   "source": [
    "mes = 3\n",
    "anio = 2023\n",
    "mes_ = mes_by_ordinal(mes, abreviado=False).capitalize()\n",
    "fecha = f\"{mes_} {anio}\"\n",
    "datos = datosIPC(anio, mes, dbBackup=True)\n",
    "reporte = ReporteINE(\"Índice de Precios al Consumidor\", anio, mes)\n",
    "# capitulo 1\n",
    "reporte.presentacion(datos.introduccion())\n",
    "reporte.agregar_capitulo(\n",
    "    titulo=\"Detalle del operativo de campo del IPC\"\n",
    ")\n",
    "subcap_data = datos.serie_fuentes()\n",
    "reporte.agregar_subcapitulo(\n",
    "    titulo=\"Cobertura de fuentes\",\n",
    "    titulo_grafico=\"Histórico de cobertura de fuentes\",\n",
    "    descripcion_grafico=\"República de Guatemala, serie histórica, cantidad de fuentes\",\n",
    "    descripcion=subcap_data[1],\n",
    "    fuente=\"INE\",\n",
    "    tipo_grafico=\"lineal\",\n",
    "    data=subcap_data[0],\n",
    "    opciones_grafico=dict(Q4Etiquetas=True)\n",
    ")"
   ]
  },
  {
   "cell_type": "code",
   "execution_count": null,
   "metadata": {},
   "outputs": [],
   "source": [
    "reporte.crear_reporte()\n",
    "\n",
    "reporte.compilar_reporte()\n",
    "reporte.compilar_reporte()"
   ]
  }
 ],
 "metadata": {
  "kernelspec": {
   "display_name": ".venv",
   "language": "python",
   "name": "python3"
  },
  "language_info": {
   "codemirror_mode": {
    "name": "ipython",
    "version": 3
   },
   "file_extension": ".py",
   "mimetype": "text/x-python",
   "name": "python",
   "nbconvert_exporter": "python",
   "pygments_lexer": "ipython3",
   "version": "3.11.2"
  },
  "orig_nbformat": 4
 },
 "nbformat": 4,
 "nbformat_minor": 2
}
