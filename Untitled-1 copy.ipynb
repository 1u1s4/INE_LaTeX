{
 "cells": [
  {
   "cell_type": "code",
   "execution_count": 1,
   "metadata": {},
   "outputs": [],
   "source": [
    "from reporteine import ReporteINE\n",
    "from datosipc import datosIPC\n",
    "from funcionesjo import mes_by_ordinal"
   ]
  },
  {
   "cell_type": "code",
   "execution_count": 2,
   "metadata": {},
   "outputs": [
    {
     "name": "stderr",
     "output_type": "stream",
     "text": [
      "R[write to console]: Exiting.\n",
      "\n"
     ]
    }
   ],
   "source": [
    "mes = 2\n",
    "anio = 2023\n",
    "mes_ = mes_by_ordinal(mes, abreviado=False).capitalize()\n",
    "fecha = f\"{mes_} {anio}\"\n",
    "datos = datosIPC(anio, mes, QdbAux=True, dbBackup=True)\n",
    "reporte = ReporteINE(\"prueba_new_graph\", anio, mes)"
   ]
  },
  {
   "cell_type": "code",
   "execution_count": 3,
   "metadata": {},
   "outputs": [],
   "source": [
    "# capitulo 1\n",
    "reporte.presentacion(datos.introduccion())\n",
    "reporte.agregar_capitulo(\n",
    "    titulo=\"prueba\"\n",
    ")\n",
    "subcap_data = datos.SQL.serie_historica(\"interanual\")\n",
    "reporte.agregar_subcapitulo(\n",
    "    titulo=\"Serie historia de inflacion interanual\",\n",
    "    titulo_grafico=\"Histórico\",\n",
    "    descripcion_grafico=\"República de Guatemala, serie histórica, porcentaje\",\n",
    "    descripcion=\"\",\n",
    "    fuente=\"INE\",\n",
    "    tipo_grafico=\"lineal\",\n",
    "    data=subcap_data,\n",
    "    opciones_grafico=dict(Q4Etiquetas=True, etiquetaCadaSeis=False)\n",
    ")"
   ]
  },
  {
   "cell_type": "code",
   "execution_count": 4,
   "metadata": {},
   "outputs": [
    {
     "name": "stderr",
     "output_type": "stream",
     "text": [
      "R[write to console]: Using TikZ metrics dictionary at:\n",
      "\tC:/Users/laalvarado/tikzMetricsDictionary\n",
      "\n"
     ]
    }
   ],
   "source": [
    "reporte.crear_reporte()"
   ]
  },
  {
   "cell_type": "code",
   "execution_count": 5,
   "metadata": {},
   "outputs": [],
   "source": [
    "reporte.compilar_reporte()\n",
    "reporte.compilar_reporte()"
   ]
  }
 ],
 "metadata": {
  "kernelspec": {
   "display_name": "Python 3.10.6 64-bit",
   "language": "python",
   "name": "python3"
  },
  "language_info": {
   "codemirror_mode": {
    "name": "ipython",
    "version": 3
   },
   "file_extension": ".py",
   "mimetype": "text/x-python",
   "name": "python",
   "nbconvert_exporter": "python",
   "pygments_lexer": "ipython3",
   "version": "3.11.2"
  },
  "orig_nbformat": 4,
  "vscode": {
   "interpreter": {
    "hash": "549303601b1024b9e300ce5f29c6b94d02e3162278eab942e2a1b6577abca927"
   }
  }
 },
 "nbformat": 4,
 "nbformat_minor": 2
}
