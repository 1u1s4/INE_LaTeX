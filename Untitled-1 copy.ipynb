{
 "cells": [
  {
   "cell_type": "code",
   "execution_count": 1,
   "metadata": {},
   "outputs": [],
   "source": [
    "from reporteine import ReporteINE\n",
    "from time import time\n",
    "from datosipc import datosIPC\n",
    "from funcionesjo import mes_by_ordinal"
   ]
  },
  {
   "cell_type": "code",
   "execution_count": 2,
   "metadata": {},
   "outputs": [],
   "source": [
    "t = time()\n",
    "mes = 2\n",
    "anio = 2023\n",
    "mes_ = mes_by_ordinal(mes, abreviado=False).capitalize()\n",
    "fecha = f\"{mes_} {anio}\"\n",
    "datos = datosIPC(anio, mes)\n",
    "reporte = ReporteINE(\"Prueba_IPC\", anio, mes)"
   ]
  },
  {
   "cell_type": "code",
   "execution_count": 6,
   "metadata": {},
   "outputs": [
    {
     "data": {
      "text/plain": [
       "([(1, 1775),\n",
       "  (2, 673),\n",
       "  (3, 1125),\n",
       "  (4, 778),\n",
       "  (5, 837),\n",
       "  (6, 1691),\n",
       "  (7, 612),\n",
       "  (8, 579)],\n",
       " 'En el mes de febrero 2023 la región\\\\footnote{Guatemala se encuentra organizada en 8 regiones; La región I o Metropolitana está conformada por el departamento de Guatemala, la región II o Norte por Alta Verapaz y Baja Verapaz, la región III o Nororiental por Chiquimula, El Progreso, Izabal y Zacapa, la región IV o Suroriental por Jutiapa, Jalapa y Santa Rosa, la región V o Central por Chimaltenango, Sacatepéquez y Escuintla, la región VI o Suroccidental por Quetzaltenango, Retalhuleu, San Marcos, Suchitepéquez, Sololá y Totonicapán, la región VII o Noroccidental por Huehuetenango y Quiché y la región VIII por Petén.} I fue donde más fuentes fueron consultadas con un total de 1,775 y la región VIII fue donde menos fuentes fueron consultadas con un total de 579.')"
      ]
     },
     "execution_count": 6,
     "metadata": {},
     "output_type": "execute_result"
    }
   ],
   "source": [
    "datos.cobertura_fuentes()"
   ]
  },
  {
   "cell_type": "code",
   "execution_count": 5,
   "metadata": {},
   "outputs": [
    {
     "data": {
      "text/plain": [
       "([(1, 9326),\n",
       "  (2, 3821),\n",
       "  (3, 5760),\n",
       "  (4, 3757),\n",
       "  (5, 4177),\n",
       "  (6, 10892),\n",
       "  (7, 2927),\n",
       "  (8, 3449)],\n",
       " 'En el mes de febrero 2023 la región\\\\footnote{Guatemala se encuentra organizada en 8 regiones; La región I o Metropolitana está conformada por el departamento de Guatemala, la región II o Norte por Alta Verapaz y Baja Verapaz, la región III o Nororiental por Chiquimula, El Progreso, Izabal y Zacapa, la región IV o Suroriental por Jutiapa, Jalapa y Santa Rosa, la región V o Central por Chimaltenango, Sacatepéquez y Escuintla, la región VI o Suroccidental por Quetzaltenango, Retalhuleu, San Marcos, Suchitepéquez, Sololá y Totonicapán, la región VII o Noroccidental por Huehuetenango y Quiché y la región VIII por Petén.} VI fue donde más precios fueron diligenciados con un total de 10892 y la región VII fue donde menos precios fueron diligenciados con un total de 2927.')"
      ]
     },
     "execution_count": 5,
     "metadata": {},
     "output_type": "execute_result"
    }
   ],
   "source": [
    "datos.cobertura_precios()"
   ]
  },
  {
   "cell_type": "code",
   "execution_count": 7,
   "metadata": {},
   "outputs": [
    {
     "data": {
      "text/plain": [
       "([(1, 141.38094855745507),\n",
       "  (2, 257.3002247072782),\n",
       "  (3, 158.94908833992702),\n",
       "  (4, 237.4934797645193),\n",
       "  (5, 154.9725817877765),\n",
       "  (6, 154.9191502232529),\n",
       "  (7, 234.46364928423947),\n",
       "  (8, 172.0988597274262)],\n",
       " 'En el mes de febrero del año 2023, la región\\\\footnote{Guatemala se encuentra organizada en 8 regiones; La región I o Metropolitana está conformada por el departamento de Guatemala, la región II o Norte por Alta Verapaz y Baja Verapaz, la región III o Nororiental por Chiquimula, El Progreso, Izabal y Zacapa, la región IV o Suroriental por Jutiapa, Jalapa y Santa Rosa, la región V o Central por Chimaltenango, Sacatepéquez y Escuintla, la región VI o Suroccidental por Quetzaltenango, Retalhuleu, San Marcos, Suchitepéquez, Sololá y Totonicapán, la región VII o Noroccidental por Huehuetenango y Quiché y la región VIII por Petén.} II presentó el mayor índice de precios al consumidor, el cual fue de 257.30, mientras que la región I presentó el índice más bajo, de 141.38')"
      ]
     },
     "execution_count": 7,
     "metadata": {},
     "output_type": "execute_result"
    }
   ],
   "source": [
    "datos.ipc_regiones()"
   ]
  },
  {
   "cell_type": "code",
   "execution_count": 8,
   "metadata": {},
   "outputs": [
    {
     "data": {
      "text/plain": [
       "([(1, 7.805225244545633),\n",
       "  (2, 14.182335427373705),\n",
       "  (3, 9.39907808667697),\n",
       "  (4, 10.922718522158426),\n",
       "  (5, 9.86282759878252),\n",
       "  (6, 10.664582868198625),\n",
       "  (7, 13.474459573691622),\n",
       "  (8, 9.671024086422308)],\n",
       " 'En el mes de febrero del año 2023, la región\\\\footnote{Guatemala se encuentra organizada en 8 regiones; La región I o Metropolitana está conformada por el departamento de Guatemala, la región II o Norte por Alta Verapaz y Baja Verapaz, la región III o Nororiental por Chiquimula, El Progreso, Izabal y Zacapa, la región IV o Suroriental por Jutiapa, Jalapa y Santa Rosa, la región V o Central por Chimaltenango, Sacatepéquez y Escuintla, la región VI o Suroccidental por Quetzaltenango, Retalhuleu, San Marcos, Suchitepéquez, Sololá y Totonicapán, la región VII o Noroccidental por Huehuetenango y Quiché y la región VIII por Petén.} II presentó la mayor inflación interanual, la cual fue de 14.18, mientras que la región I presentó la menor inflación interanual, de 7.81')"
      ]
     },
     "execution_count": 8,
     "metadata": {},
     "output_type": "execute_result"
    }
   ],
   "source": [
    "datos.inflacion_interanual_regiones()"
   ]
  },
  {
   "cell_type": "code",
   "execution_count": 7,
   "metadata": {},
   "outputs": [],
   "source": [
    "# capitulo 1\n",
    "reporte.presentacion(datos.introduccion())\n",
    "reporte.agregar_capitulo(\n",
    "    titulo=\"Detalle del operativo de campo del IPC\"\n",
    ")\n",
    "subcap_data = datos.SQL.serie_historica(\"interanual\")\n",
    "reporte.agregar_subcapitulo(\n",
    "    titulo=\"Cobertura de fuentes\",\n",
    "    titulo_grafico=\"Histórico de cobertura de fuentes\",\n",
    "    descripcion_grafico=\"República de Guatemala, serie histórica, cantidad de fuentes\",\n",
    "    descripcion=\"\",\n",
    "    fuente=\"INE\",\n",
    "    tipo_grafico=\"lineal\",\n",
    "    data=subcap_data,\n",
    "    opciones_grafico=dict(Q4Etiquetas=True)\n",
    ")"
   ]
  },
  {
   "cell_type": "code",
   "execution_count": 8,
   "metadata": {},
   "outputs": [
    {
     "name": "stderr",
     "output_type": "stream",
     "text": [
      "R[write to console]: Measuring dimensions of: 5.5\n",
      "\n",
      "R[write to console]: Running command: \"C:\\texlive\\2022\\bin\\win32\\xelatex.exe\" -interaction=batchmode -halt-on-error -output-directory \"C:\\Users\\LAALVA~1\\AppData\\Local\\Temp\\Rtmp2Fjkw3\\tikzDevicea28c6b6230f\" \"tikzStringWidthCalc.tex\"\n",
      "\n",
      "R[write to console]: Measuring dimensions of: 1.2\n",
      "\n",
      "R[write to console]: Running command: \"C:\\texlive\\2022\\bin\\win32\\xelatex.exe\" -interaction=batchmode -halt-on-error -output-directory \"C:\\Users\\LAALVA~1\\AppData\\Local\\Temp\\Rtmp2Fjkw3\\tikzDevicea28ca371406\" \"tikzStringWidthCalc.tex\"\n",
      "\n",
      "R[write to console]: Measuring dimensions of: 10.2\n",
      "\n",
      "R[write to console]: Running command: \"C:\\texlive\\2022\\bin\\win32\\xelatex.exe\" -interaction=batchmode -halt-on-error -output-directory \"C:\\Users\\LAALVA~1\\AppData\\Local\\Temp\\Rtmp2Fjkw3\\tikzDevicea28c79cb3872\" \"tikzStringWidthCalc.tex\"\n",
      "\n"
     ]
    }
   ],
   "source": [
    "reporte.crear_reporte()"
   ]
  }
 ],
 "metadata": {
  "kernelspec": {
   "display_name": "Python 3.10.6 64-bit",
   "language": "python",
   "name": "python3"
  },
  "language_info": {
   "codemirror_mode": {
    "name": "ipython",
    "version": 3
   },
   "file_extension": ".py",
   "mimetype": "text/x-python",
   "name": "python",
   "nbconvert_exporter": "python",
   "pygments_lexer": "ipython3",
   "version": "3.10.6"
  },
  "orig_nbformat": 4,
  "vscode": {
   "interpreter": {
    "hash": "549303601b1024b9e300ce5f29c6b94d02e3162278eab942e2a1b6577abca927"
   }
  }
 },
 "nbformat": 4,
 "nbformat_minor": 2
}
