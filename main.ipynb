{
 "cells": [
  {
   "cell_type": "code",
   "execution_count": 1,
   "metadata": {},
   "outputs": [],
   "source": [
    "from datosipc import datosIPC\n",
    "\n",
    "from funcionesjo import mes_by_ordinal\n",
    "from reporteine import ReporteINE"
   ]
  },
  {
   "cell_type": "code",
   "execution_count": 2,
   "metadata": {},
   "outputs": [],
   "source": [
    "mes = 3\n",
    "anio = 2023\n",
    "mes_ = mes_by_ordinal(mes, abreviado=False).capitalize()\n",
    "fecha = f\"{mes_} {anio}\"\n",
    "datos = datosIPC(anio, mes, dbBackup=True)\n",
    "reporte = ReporteINE(\"Índice de Precios al Consumidor\", anio, mes)"
   ]
  },
  {
   "cell_type": "code",
   "execution_count": 3,
   "metadata": {},
   "outputs": [],
   "source": [
    "# capitulo 1\n",
    "reporte.presentacion(datos.introduccion())\n",
    "\n",
    "reporte.agregar_capitulo(\n",
    "    titulo=\"Detalle del operativo de campo del IPC\"\n",
    ")\n",
    "subcap_data = datos.serie_fuentes()\n",
    "reporte.agregar_subcapitulo(\n",
    "    titulo=\"Cobertura de fuentes\",\n",
    "    titulo_grafico=\"Histórico de cobertura de fuentes\",\n",
    "    descripcion_grafico=\"República de Guatemala, serie histórica, cantidad de fuentes\",\n",
    "    descripcion=subcap_data[1],\n",
    "    fuente=\"INE\",\n",
    "    tipo_grafico=\"lineal\",\n",
    "    data=subcap_data[0],\n",
    "    opciones_grafico=dict(Q4Etiquetas=True)\n",
    ")\n",
    "#capitulo 4\n",
    "reporte.agregar_capitulo(\n",
    "    titulo=\"Anexos\",\n",
    "    anexo=True\n",
    ")\n",
    "datos_gba = datos.series_Gba(0)\n",
    "for Gba in datos_gba[0:3]:\n",
    "    nombre = Gba[0]\n",
    "    datosGba = Gba[1]\n",
    "    desc = Gba[2]\n",
    "    reporte.agregar_subcapitulo(\n",
    "        titulo=f\"Evolución del índice del gasto básico {nombre}\",\n",
    "        titulo_grafico=\"IPC, base diciembre del 2010\",\n",
    "        descripcion_grafico=\"República de Guatemala, serie histórica, adimensional\",\n",
    "        descripcion=desc,\n",
    "        fuente=\"INE\",\n",
    "        tipo_grafico=\"lineal\",\n",
    "        data=datosGba,\n",
    "        opciones_grafico={\"precision\":1, \"Q4Etiquetas\":True}\n",
    "    )\n",
    "subcap_data = datos.tabla_series_historicas()\n",
    "reporte.agregar_subcapitulo(\n",
    "    titulo=\"Tabla de indices\",\n",
    "    titulo_grafico=\"Ritmo inflacionario, variación mensual, IPC, base diciembre del 2010\",\n",
    "    descripcion_grafico=\"República de Guatemala, serie histórica, porcentaje\",\n",
    "    descripcion=subcap_data[1],\n",
    "    fuente=\"INE\",\n",
    "    tipo_grafico=\"tabla_larga\",\n",
    "    data=subcap_data[0],\n",
    "    opciones_grafico={}\n",
    ")"
   ]
  },
  {
   "cell_type": "code",
   "execution_count": 4,
   "metadata": {},
   "outputs": [
    {
     "name": "stderr",
     "output_type": "stream",
     "text": [
      "R[write to console]: Using TikZ metrics dictionary at:\n",
      "\tC:/Users/laalvarado/tikzMetricsDictionary\n",
      "\n"
     ]
    },
    {
     "ename": "",
     "evalue": "",
     "output_type": "error",
     "traceback": [
      "\u001b[1;31mCanceled future for execute_request message before replies were done"
     ]
    },
    {
     "ename": "",
     "evalue": "",
     "output_type": "error",
     "traceback": [
      "\u001b[1;31mThe Kernel crashed while executing code in the the current cell or a previous cell. Please review the code in the cell(s) to identify a possible cause of the failure. Click <a href='https://aka.ms/vscodeJupyterKernelCrash'>here</a> for more info. View Jupyter <a href='command:jupyter.viewOutput'>log</a> for further details."
     ]
    }
   ],
   "source": [
    "reporte.crear_reporte()\n",
    "reporte.compilar_reporte()\n",
    "reporte.compilar_reporte()"
   ]
  }
 ],
 "metadata": {
  "kernelspec": {
   "display_name": ".venv",
   "language": "python",
   "name": "python3"
  },
  "language_info": {
   "codemirror_mode": {
    "name": "ipython",
    "version": 3
   },
   "file_extension": ".py",
   "mimetype": "text/x-python",
   "name": "python",
   "nbconvert_exporter": "python",
   "pygments_lexer": "ipython3",
   "version": "3.11.2"
  },
  "orig_nbformat": 4,
  "vscode": {
   "interpreter": {
    "hash": "fe79f996457a7f8bf8e76b8c53d1ba6f92c4aa1913675e12f438e94f289a43f7"
   }
  }
 },
 "nbformat": 4,
 "nbformat_minor": 2
}
