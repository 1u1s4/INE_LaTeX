{
 "cells": [
  {
   "cell_type": "code",
   "execution_count": null,
   "metadata": {},
   "outputs": [],
   "source": [
    "from datosipc import datosIPC\n",
    "\n",
    "from funcionesjo import mes_by_ordinal\n",
    "from reporteine import ReporteINE"
   ]
  },
  {
   "cell_type": "code",
   "execution_count": null,
   "metadata": {},
   "outputs": [],
   "source": [
    "mes = 3\n",
    "anio = 2023\n",
    "mes_ = mes_by_ordinal(mes, abreviado=False).capitalize()\n",
    "fecha = f\"{mes_} {anio}\"\n",
    "datos = datosIPC(anio, mes, dbBackup=0)\n",
    "#reporte = ReporteINE(\"Índice de Precios al Consumidor\", anio, mes)"
   ]
  },
  {
   "cell_type": "code",
   "execution_count": null,
   "metadata": {},
   "outputs": [],
   "source": [
    "from tabulate import tabulate\n",
    "from typing import List, Tuple\n",
    "\n",
    "def imprimir_tabla(datos: List[Tuple[int, float]]) -> None:\n",
    "    encabezado = [\"Reg\", \"Valor\"]\n",
    "    filas = [[num, f'{val:.1f}'] for num, val in datos]\n",
    "    print(tabulate(filas, headers=encabezado))\n"
   ]
  },
  {
   "cell_type": "code",
   "execution_count": null,
   "metadata": {},
   "outputs": [],
   "source": [
    "print('IPC')\n",
    "imprimir_tabla(datos.ipc_regiones()[0])\n",
    "print('Inflacion')\n",
    "imprimir_tabla(datos.inflacion_interanual_regiones()[0])\n",
    "print('Fuentes')\n",
    "imprimir_tabla(datos.cobertura_fuentes()[0])\n",
    "print('Precios')\n",
    "imprimir_tabla(datos.cobertura_precios()[0])"
   ]
  },
  {
   "cell_type": "code",
   "execution_count": null,
   "metadata": {},
   "outputs": [],
   "source": []
  }
 ],
 "metadata": {
  "kernelspec": {
   "display_name": ".venv",
   "language": "python",
   "name": "python3"
  },
  "language_info": {
   "codemirror_mode": {
    "name": "ipython",
    "version": 3
   },
   "file_extension": ".py",
   "mimetype": "text/x-python",
   "name": "python",
   "nbconvert_exporter": "python",
   "pygments_lexer": "ipython3",
   "version": "3.11.2"
  },
  "orig_nbformat": 4,
  "vscode": {
   "interpreter": {
    "hash": "fe79f996457a7f8bf8e76b8c53d1ba6f92c4aa1913675e12f438e94f289a43f7"
   }
  }
 },
 "nbformat": 4,
 "nbformat_minor": 2
}
