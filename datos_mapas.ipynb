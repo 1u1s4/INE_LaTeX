{
 "cells": [
  {
   "cell_type": "code",
   "execution_count": null,
   "metadata": {},
   "outputs": [],
   "source": [
    "from datosipc import datosIPC\n",
    "\n",
    "from funcionesjo import mes_by_ordinal"
   ]
  },
  {
   "cell_type": "code",
   "execution_count": null,
   "metadata": {},
   "outputs": [],
   "source": [
    "mes = 4\n",
    "anio = 2023\n",
    "mes_ = mes_by_ordinal(mes, abreviado=False).capitalize()\n",
    "fecha = f\"{mes_} {anio}\"\n",
    "datos = datosIPC(anio, mes, dbBackup=1)\n",
    "#reporte = ReporteINE(\"Índice de Precios al Consumidor\", anio, mes)"
   ]
  },
  {
   "cell_type": "code",
   "execution_count": null,
   "metadata": {},
   "outputs": [],
   "source": [
    "from tabulate import tabulate\n",
    "from typing import List, Tuple\n",
    "\n",
    "def imprimir_tabla(datos: List[Tuple[int, float]]) -> None:\n",
    "    encabezado = [\"Reg\", \"Valor\"]\n",
    "    filas = [[num, f'{val:.2f}'] for num, val in datos]\n",
    "    print(tabulate(filas, headers=encabezado))\n"
   ]
  },
  {
   "cell_type": "code",
   "execution_count": null,
   "metadata": {},
   "outputs": [],
   "source": [
    "print('IPC')\n",
    "imprimir_tabla(datos.ipc_regiones()[0])\n",
    "print('Inflacion')\n",
    "imprimir_tabla(datos.inflacion_interanual_regiones()[0])\n",
    "print('Fuentes')\n",
    "imprimir_tabla(datos.cobertura_fuentes()[0])\n",
    "print('Precios')\n",
    "imprimir_tabla(datos.cobertura_precios()[0])"
   ]
  },
  {
   "cell_type": "code",
   "execution_count": null,
   "metadata": {},
   "outputs": [],
   "source": [
    "datos.cobertura_precios()[0]"
   ]
  },
  {
   "cell_type": "code",
   "execution_count": null,
   "metadata": {},
   "outputs": [],
   "source": [
    "print('IPC')\n",
    "print(datos.ipc_regiones()[1])\n",
    "print('Inflacion')\n",
    "print(datos.inflacion_interanual_regiones()[1])\n",
    "print('Fuentes')\n",
    "print(datos.cobertura_fuentes()[1])\n",
    "print('Precios')\n",
    "print(datos.cobertura_precios()[1])"
   ]
  }
 ],
 "metadata": {
  "kernelspec": {
   "display_name": "Python 3.11.2 64-bit",
   "language": "python",
   "name": "python3"
  },
  "language_info": {
   "codemirror_mode": {
    "name": "ipython",
    "version": 3
   },
   "file_extension": ".py",
   "mimetype": "text/x-python",
   "name": "python",
   "nbconvert_exporter": "python",
   "pygments_lexer": "ipython3",
   "version": "3.11.3"
  },
  "orig_nbformat": 4,
  "vscode": {
   "interpreter": {
    "hash": "aee8b7b246df8f9039afb4144a1f6fd8d2ca17a180786b69acc140d282b71a49"
   }
  }
 },
 "nbformat": 4,
 "nbformat_minor": 2
}
