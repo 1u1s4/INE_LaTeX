{
 "cells": [
  {
   "cell_type": "code",
   "execution_count": 1,
   "metadata": {},
   "outputs": [],
   "source": [
    "from datosipc import datosIPC\n",
    "\n",
    "from funcionesjo import mes_by_ordinal"
   ]
  },
  {
   "cell_type": "code",
   "execution_count": 2,
   "metadata": {},
   "outputs": [],
   "source": [
    "mes = 3\n",
    "anio = 2023\n",
    "mes_ = mes_by_ordinal(mes, abreviado=False).capitalize()\n",
    "fecha = f\"{mes_} {anio}\"\n",
    "datos = datosIPC(anio, mes, dbBackup=1)\n",
    "#reporte = ReporteINE(\"Índice de Precios al Consumidor\", anio, mes)"
   ]
  },
  {
   "cell_type": "code",
   "execution_count": 3,
   "metadata": {},
   "outputs": [],
   "source": [
    "from tabulate import tabulate\n",
    "from typing import List, Tuple\n",
    "\n",
    "def imprimir_tabla(datos: List[Tuple[int, float]]) -> None:\n",
    "    encabezado = [\"Reg\", \"Valor\"]\n",
    "    filas = [[num, f'{val:.1f}'] for num, val in datos]\n",
    "    print(tabulate(filas, headers=encabezado))\n"
   ]
  },
  {
   "cell_type": "code",
   "execution_count": 4,
   "metadata": {},
   "outputs": [
    {
     "name": "stdout",
     "output_type": "stream",
     "text": [
      "IPC\n",
      "  Reg    Valor\n",
      "-----  -------\n",
      "    1    141\n",
      "    2    259.3\n",
      "    3    159.8\n",
      "    4    237.7\n",
      "    5    155.4\n",
      "    6    155.6\n",
      "    7    234.5\n",
      "    8    172.1\n",
      "Inflacion\n",
      "  Reg    Valor\n",
      "-----  -------\n",
      "    1      5.9\n",
      "    2     13.9\n",
      "    3      7.7\n",
      "    4      9.5\n",
      "    5      8.1\n",
      "    6      9.6\n",
      "    7     11.8\n",
      "    8      8.7\n",
      "Fuentes\n",
      "  Reg    Valor\n",
      "-----  -------\n",
      "    1     1971\n",
      "    2      769\n",
      "    3     1173\n",
      "    4      802\n",
      "    5      880\n",
      "    6     1650\n",
      "    7      692\n",
      "    8      602\n",
      "Precios\n",
      "  Reg    Valor\n",
      "-----  -------\n",
      "    1     9671\n",
      "    2     4320\n",
      "    3     5768\n",
      "    4     3821\n",
      "    5     4764\n",
      "    6    10969\n",
      "    7     3239\n",
      "    8     3513\n"
     ]
    }
   ],
   "source": [
    "print('IPC')\n",
    "imprimir_tabla(datos.ipc_regiones()[0])\n",
    "print('Inflacion')\n",
    "imprimir_tabla(datos.inflacion_interanual_regiones()[0])\n",
    "print('Fuentes')\n",
    "imprimir_tabla(datos.cobertura_fuentes()[0])\n",
    "print('Precios')\n",
    "imprimir_tabla(datos.cobertura_precios()[0])"
   ]
  },
  {
   "cell_type": "code",
   "execution_count": null,
   "metadata": {},
   "outputs": [],
   "source": []
  }
 ],
 "metadata": {
  "kernelspec": {
   "display_name": ".venv",
   "language": "python",
   "name": "python3"
  },
  "language_info": {
   "codemirror_mode": {
    "name": "ipython",
    "version": 3
   },
   "file_extension": ".py",
   "mimetype": "text/x-python",
   "name": "python",
   "nbconvert_exporter": "python",
   "pygments_lexer": "ipython3",
   "version": "3.11.2"
  },
  "orig_nbformat": 4,
  "vscode": {
   "interpreter": {
    "hash": "fe79f996457a7f8bf8e76b8c53d1ba6f92c4aa1913675e12f438e94f289a43f7"
   }
  }
 },
 "nbformat": 4,
 "nbformat_minor": 2
}
