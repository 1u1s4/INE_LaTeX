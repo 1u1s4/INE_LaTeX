{
 "cells": [
  {
   "cell_type": "code",
   "execution_count": 5,
   "metadata": {},
   "outputs": [],
   "source": [
    "from datosipc import datosIPC\n",
    "\n",
    "from funcionesjo import mes_by_ordinal"
   ]
  },
  {
   "cell_type": "code",
   "execution_count": 6,
   "metadata": {},
   "outputs": [],
   "source": [
    "mes = 4\n",
    "anio = 2023\n",
    "mes_ = mes_by_ordinal(mes, abreviado=False).capitalize()\n",
    "fecha = f\"{mes_} {anio}\"\n",
    "datos = datosIPC(anio, mes, dbBackup=1)\n",
    "#reporte = ReporteINE(\"Índice de Precios al Consumidor\", anio, mes)"
   ]
  },
  {
   "cell_type": "code",
   "execution_count": 7,
   "metadata": {},
   "outputs": [],
   "source": [
    "from tabulate import tabulate\n",
    "from typing import List, Tuple\n",
    "\n",
    "def imprimir_tabla(datos: List[Tuple[int, float]]) -> None:\n",
    "    encabezado = [\"Reg\", \"Valor\"]\n",
    "    filas = [[num, f'{val:.2f}'] for num, val in datos]\n",
    "    print(tabulate(filas, headers=encabezado))\n"
   ]
  },
  {
   "cell_type": "code",
   "execution_count": 8,
   "metadata": {},
   "outputs": [
    {
     "name": "stdout",
     "output_type": "stream",
     "text": [
      "IPC\n",
      "  Reg    Valor\n",
      "-----  -------\n",
      "    1   141.87\n",
      "    2   257.6\n",
      "    3   160.22\n",
      "    4   236.98\n",
      "    5   155.76\n",
      "    6   155.56\n",
      "    7   234.72\n",
      "    8   172.18\n",
      "Inflacion\n",
      "  Reg    Valor\n",
      "-----  -------\n",
      "    1     5.86\n",
      "    2    12.4\n",
      "    3     7.27\n",
      "    4     8.98\n",
      "    5     7.85\n",
      "    6     8.98\n",
      "    7    11.72\n",
      "    8     7.54\n",
      "Fuentes\n",
      "  Reg    Valor\n",
      "-----  -------\n",
      "    1     2061\n",
      "    2      770\n",
      "    3     1168\n",
      "    4      775\n",
      "    5      863\n",
      "    6     1722\n",
      "    7      673\n",
      "    8      648\n",
      "Precios\n",
      "  Reg    Valor\n",
      "-----  -------\n",
      "    1     9826\n",
      "    2     4426\n",
      "    3     5611\n",
      "    4     3743\n",
      "    5     4384\n",
      "    6    11454\n",
      "    7     3065\n",
      "    8     3743\n"
     ]
    }
   ],
   "source": [
    "print('IPC')\n",
    "imprimir_tabla(datos.ipc_regiones()[0])\n",
    "print('Inflacion')\n",
    "imprimir_tabla(datos.inflacion_interanual_regiones()[0])\n",
    "print('Fuentes')\n",
    "imprimir_tabla(datos.cobertura_fuentes()[0])\n",
    "print('Precios')\n",
    "imprimir_tabla(datos.cobertura_precios()[0])"
   ]
  },
  {
   "cell_type": "code",
   "execution_count": 9,
   "metadata": {},
   "outputs": [
    {
     "data": {
      "text/plain": [
       "[(1, 9826),\n",
       " (2, 4426),\n",
       " (3, 5611),\n",
       " (4, 3743),\n",
       " (5, 4384),\n",
       " (6, 11454),\n",
       " (7, 3065),\n",
       " (8, 3743)]"
      ]
     },
     "execution_count": 9,
     "metadata": {},
     "output_type": "execute_result"
    }
   ],
   "source": [
    "datos.cobertura_precios()[0]"
   ]
  },
  {
   "cell_type": "code",
   "execution_count": 10,
   "metadata": {},
   "outputs": [
    {
     "name": "stdout",
     "output_type": "stream",
     "text": [
      "IPC\n",
      "En el mes de abril del año 2023, la región\\footnote{Guatemala se encuentra organizada en 8 regiones; La región I o Metropolitana está conformada por el departamento de Guatemala, la región II o Norte por Alta Verapaz y Baja Verapaz, la región III o Nororiental por Chiquimula, El Progreso, Izabal y Zacapa, la región IV o Suroriental por Jutiapa, Jalapa y Santa Rosa, la región V o Central por Chimaltenango, Sacatepéquez y Escuintla, la región VI o Suroccidental por Quetzaltenango, Retalhuleu, San Marcos, Suchitepéquez, Sololá y Totonicapán, la región VII o Noroccidental por Huehuetenango y Quiché y la región VIII por Petén.} II presentó el mayor índice de precios al consumidor, el cual fue de 257.60, mientras que la región I presentó el índice más bajo, de 141.87\n",
      "Inflacion\n",
      "En el mes de abril del año 2023, la región\\footnote{Guatemala se encuentra organizada en 8 regiones; La región I o Metropolitana está conformada por el departamento de Guatemala, la región II o Norte por Alta Verapaz y Baja Verapaz, la región III o Nororiental por Chiquimula, El Progreso, Izabal y Zacapa, la región IV o Suroriental por Jutiapa, Jalapa y Santa Rosa, la región V o Central por Chimaltenango, Sacatepéquez y Escuintla, la región VI o Suroccidental por Quetzaltenango, Retalhuleu, San Marcos, Suchitepéquez, Sololá y Totonicapán, la región VII o Noroccidental por Huehuetenango y Quiché y la región VIII por Petén.} II presentó la mayor inflación interanual, la cual fue de 12.40, mientras que la región I presentó la menor inflación interanual, de 5.86\n",
      "Fuentes\n",
      "En el mes de abril 2023 la región\\footnote{Guatemala se encuentra organizada en 8 regiones; La región I o Metropolitana está conformada por el departamento de Guatemala, la región II o Norte por Alta Verapaz y Baja Verapaz, la región III o Nororiental por Chiquimula, El Progreso, Izabal y Zacapa, la región IV o Suroriental por Jutiapa, Jalapa y Santa Rosa, la región V o Central por Chimaltenango, Sacatepéquez y Escuintla, la región VI o Suroccidental por Quetzaltenango, Retalhuleu, San Marcos, Suchitepéquez, Sololá y Totonicapán, la región VII o Noroccidental por Huehuetenango y Quiché y la región VIII por Petén.} I fue donde más fuentes fueron consultadas con un total de 2,061 y la región VIII fue donde menos fuentes fueron consultadas con un total de 648.\n",
      "Precios\n",
      "En el mes de abril 2023 la región\\footnote{Guatemala se encuentra organizada en 8 regiones; La región I o Metropolitana está conformada por el departamento de Guatemala, la región II o Norte por Alta Verapaz y Baja Verapaz, la región III o Nororiental por Chiquimula, El Progreso, Izabal y Zacapa, la región IV o Suroriental por Jutiapa, Jalapa y Santa Rosa, la región V o Central por Chimaltenango, Sacatepéquez y Escuintla, la región VI o Suroccidental por Quetzaltenango, Retalhuleu, San Marcos, Suchitepéquez, Sololá y Totonicapán, la región VII o Noroccidental por Huehuetenango y Quiché y la región VIII por Petén.} VI fue donde más precios fueron diligenciados con un total de 11,454 y la región VII fue donde menos precios fueron diligenciados con un total de 3,065.\n"
     ]
    }
   ],
   "source": [
    "print('IPC')\n",
    "print(datos.ipc_regiones()[1])\n",
    "print('Inflacion')\n",
    "print(datos.inflacion_interanual_regiones()[1])\n",
    "print('Fuentes')\n",
    "print(datos.cobertura_fuentes()[1])\n",
    "print('Precios')\n",
    "print(datos.cobertura_precios()[1])"
   ]
  }
 ],
 "metadata": {
  "kernelspec": {
   "display_name": "Python 3.11.2 64-bit",
   "language": "python",
   "name": "python3"
  },
  "language_info": {
   "codemirror_mode": {
    "name": "ipython",
    "version": 3
   },
   "file_extension": ".py",
   "mimetype": "text/x-python",
   "name": "python",
   "nbconvert_exporter": "python",
   "pygments_lexer": "ipython3",
   "version": "3.11.3"
  },
  "orig_nbformat": 4,
  "vscode": {
   "interpreter": {
    "hash": "aee8b7b246df8f9039afb4144a1f6fd8d2ca17a180786b69acc140d282b71a49"
   }
  }
 },
 "nbformat": 4,
 "nbformat_minor": 2
}
