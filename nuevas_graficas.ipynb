{
 "cells": [
  {
   "cell_type": "code",
   "execution_count": 1,
   "metadata": {},
   "outputs": [],
   "source": [
    "from reporteine import ReporteINE\n",
    "from datosipc import datosIPC\n",
    "from funcionesjo import mes_by_ordinal"
   ]
  },
  {
   "cell_type": "code",
   "execution_count": 2,
   "metadata": {},
   "outputs": [],
   "source": [
    "mes = 3\n",
    "anio = 2023\n",
    "mes_ = mes_by_ordinal(mes, abreviado=False).capitalize()\n",
    "fecha = f\"{mes_} {anio}\"\n",
    "datos = datosIPC(anio, mes, dbBackup=1)\n",
    "reporte = ReporteINE(\"prueba_new_graph\", anio, mes)"
   ]
  },
  {
   "cell_type": "code",
   "execution_count": 3,
   "metadata": {},
   "outputs": [],
   "source": [
    "# capitulo 1\n",
    "reporte.presentacion(datos.introduccion())\n",
    "reporte.agregar_capitulo(\n",
    "    titulo=\"prueba\"\n",
    ")\n",
    "subcap_data = datos.SQL.serie_historica(\"intermensual\")\n",
    "reporte.agregar_subcapitulo(\n",
    "    titulo=\"Evolución de la variación mensual del IPC\",\n",
    "    titulo_grafico=\"Variación intermensual del IPC\",\n",
    "    descripcion_grafico=\"República de Guatemala, serie histórica, en porcentaje\",\n",
    "    descripcion=\"\",\n",
    "    fuente=\"INE\",\n",
    "    tipo_grafico=\"lineal\",\n",
    "    data=subcap_data,\n",
    "    opciones_grafico=dict(Q4Etiquetas=True, etiquetaCadaSeis=True)\n",
    ")\n",
    "subcap_data = datos.SQL.serie_historica(\"interanual\")\n",
    "reporte.agregar_subcapitulo(\n",
    "    titulo=\"Evolución del cambio anual del IPC (Ritmo Inflacionario)\",\n",
    "    titulo_grafico=\"Variación interanual del IPC\",\n",
    "    descripcion_grafico=\"República de Guatemala, serie histórica, en porcentaje\",\n",
    "    descripcion=\"\",\n",
    "    fuente=\"INE\",\n",
    "    tipo_grafico=\"lineal\",\n",
    "    data=subcap_data,\n",
    "    opciones_grafico=dict(Q4Etiquetas=True, etiquetaCadaSeis=True)\n",
    ")"
   ]
  },
  {
   "cell_type": "code",
   "execution_count": 4,
   "metadata": {},
   "outputs": [
    {
     "name": "stderr",
     "output_type": "stream",
     "text": [
      "R[write to console]: Using TikZ metrics dictionary at:\n",
      "\tC:/Users/laalvarado/tikzMetricsDictionary\n",
      "\n"
     ]
    }
   ],
   "source": [
    "reporte.crear_reporte()"
   ]
  },
  {
   "cell_type": "code",
   "execution_count": null,
   "metadata": {},
   "outputs": [],
   "source": [
    "reporte.compilar_reporte()\n",
    "reporte.compilar_reporte()"
   ]
  }
 ],
 "metadata": {
  "kernelspec": {
   "display_name": ".venv",
   "language": "python",
   "name": "python3"
  },
  "language_info": {
   "codemirror_mode": {
    "name": "ipython",
    "version": 3
   },
   "file_extension": ".py",
   "mimetype": "text/x-python",
   "name": "python",
   "nbconvert_exporter": "python",
   "pygments_lexer": "ipython3",
   "version": "3.11.2"
  },
  "orig_nbformat": 4,
  "vscode": {
   "interpreter": {
    "hash": "fe79f996457a7f8bf8e76b8c53d1ba6f92c4aa1913675e12f438e94f289a43f7"
   }
  }
 },
 "nbformat": 4,
 "nbformat_minor": 2
}
