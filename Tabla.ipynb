{
 "cells": [
  {
   "cell_type": "code",
   "execution_count": 1,
   "metadata": {},
   "outputs": [],
   "source": [
    "from datosipc import datosIPC\n",
    "import pandas as pd"
   ]
  },
  {
   "cell_type": "code",
   "execution_count": 2,
   "metadata": {},
   "outputs": [],
   "source": [
    "def export_to_longtable(df: pd.DataFrame, filename: str, header: bool=True, decimals: int=2):\n",
    "    \"\"\"\n",
    "    Exporta un dataframe a un longtable de LaTeX en un archivo.\n",
    "    \n",
    "    Parameters:\n",
    "    df (pandas.DataFrame): DataFrame a exportar.\n",
    "    filename (str): Nombre del archivo a guardar.\n",
    "    caption (str): Leyenda de la tabla.\n",
    "    column_format (str): Cadena que describe el formato de las columnas.\n",
    "    header (bool): Si True, muestra el encabezado de la tabla.\n",
    "    decimals (int): Cantidad de decimales para los números. Si el valor no es numérico, se muestra tal cual.\n",
    "    \"\"\"\n",
    "    with open(filename, 'w', encoding=\"utf-8\") as f:\n",
    "        f.write('\\\\begin{longtable}{' + 'c'*len(df.columns) + '}\\n')\n",
    "        f.write('\\\\toprule\\n')\n",
    "        \n",
    "        # Escribir el encabezado\n",
    "        if header:\n",
    "            f.write(' & '.join([col.replace('_', '\\\\_') for col in df.columns]))\n",
    "            f.write('\\\\\\\\\\\\midrule\\n')\n",
    "        \n",
    "        f.write('\\\\endfirsthead\\n')\n",
    "        f.write('\\\\multicolumn{' + str(len(df.columns)) + '}{c}{{\\\\bfseries \\\\tablename\\\\ \\\\thetable{} -- '\n",
    "                'Continuación de la página anterior}}\\\\\\\\\\n')\n",
    "        f.write('\\\\toprule\\n')\n",
    "        if header:\n",
    "            f.write(' & '.join([col.replace('_', '\\\\_') for col in df.columns]))\n",
    "            f.write('\\\\\\\\\\\\midrule\\n')\n",
    "        f.write('\\\\endhead\\n')\n",
    "        f.write('\\\\midrule\\n')\n",
    "        f.write('\\\\multicolumn{' + str(len(df.columns)) + '}{r}{{Continúa en la siguiente página}}\\\\\\\\\\n')\n",
    "        f.write('\\\\endfoot\\n')\n",
    "        f.write('\\\\bottomrule\\n')\n",
    "        f.write('\\\\endlastfoot\\n')\n",
    "        \n",
    "        # Escribir los datos\n",
    "        import re\n",
    "        for _, row in df.iterrows():\n",
    "            values = []\n",
    "            for value in row:\n",
    "                if pd.isna(value):\n",
    "                    values.append('')\n",
    "                elif isinstance(value, (int, float)):\n",
    "                    valor = round(value, decimals)\n",
    "                    if re.match(r\"^[-]0\\.0*$\", str(valor)):\n",
    "                        valor = int(valor)\n",
    "                    valor = '{:.{}f}'.format(valor, decimals)\n",
    "                    values.append(valor)\n",
    "                else:\n",
    "                    values.append(str(value))\n",
    "            f.write(' & '.join(values))\n",
    "            f.write('\\\\\\\\\\n')\n",
    "        \n",
    "        f.write('\\\\end{longtable}\\n')"
   ]
  },
  {
   "cell_type": "code",
   "execution_count": 3,
   "metadata": {},
   "outputs": [],
   "source": [
    "p = datosIPC(2023, 4, dbBackup=True)"
   ]
  },
  {
   "cell_type": "code",
   "execution_count": 4,
   "metadata": {},
   "outputs": [
    {
     "data": {
      "text/plain": [
       "Index(['Fecha', 'IPC', 'Variación mensual', 'Ritmo inflacionario'], dtype='object')"
      ]
     },
     "execution_count": 4,
     "metadata": {},
     "output_type": "execute_result"
    }
   ],
   "source": [
    "df = p.tabla_series_historicas()[0]\n",
    "df.columns"
   ]
  },
  {
   "cell_type": "code",
   "execution_count": 5,
   "metadata": {},
   "outputs": [],
   "source": [
    "export_to_longtable(df=df, filename='prueba.tex')"
   ]
  },
  {
   "cell_type": "code",
   "execution_count": 4,
   "metadata": {},
   "outputs": [
    {
     "ename": "ValueError",
     "evalue": "Single '}' encountered in format string",
     "output_type": "error",
     "traceback": [
      "\u001b[0;31m---------------------------------------------------------------------------\u001b[0m",
      "\u001b[0;31mValueError\u001b[0m                                Traceback (most recent call last)",
      "Cell \u001b[0;32mIn [4], line 23\u001b[0m\n\u001b[1;32m     16\u001b[0m     \u001b[39mreturn\u001b[39;00m template\u001b[39m.\u001b[39mformat(team_sections\u001b[39m=\u001b[39mteam_sections)\n\u001b[1;32m     18\u001b[0m data \u001b[39m=\u001b[39m {\n\u001b[1;32m     19\u001b[0m     \u001b[39m\"\u001b[39m\u001b[39mEQUIPO TÉCNICO\u001b[39m\u001b[39m\"\u001b[39m: (\u001b[39m\"\u001b[39m\u001b[39mBrenda Izabel Miranda Consuegra\u001b[39m\u001b[39m\"\u001b[39m, \u001b[39m\"\u001b[39m\u001b[39mWerner Santos Salguero García\u001b[39m\u001b[39m\"\u001b[39m, \u001b[39m\"\u001b[39m\u001b[39mHugo Allan García Monterrosa\u001b[39m\u001b[39m\"\u001b[39m, \u001b[39m\"\u001b[39m\u001b[39mHenry Efraín Coc Ramírez\u001b[39m\u001b[39m\"\u001b[39m, \u001b[39m\"\u001b[39m\u001b[39mEslie Mercedes Pérez Ruiz\u001b[39m\u001b[39m\"\u001b[39m, \u001b[39m\"\u001b[39m\u001b[39mDonald Estuardo Schaad Moz\u001b[39m\u001b[39m\"\u001b[39m, \u001b[39m\"\u001b[39m\u001b[39mFrancisco Javier Romero Celis\u001b[39m\u001b[39m\"\u001b[39m),\n\u001b[1;32m     20\u001b[0m     \u001b[39m\"\u001b[39m\u001b[39mDIAGRAMACIÓN Y DISEÑO\u001b[39m\u001b[39m\"\u001b[39m: (\u001b[39m\"\u001b[39m\u001b[39mAndrea Michelle Rojas Salvatierra\u001b[39m\u001b[39m\"\u001b[39m, \u001b[39m\"\u001b[39m\u001b[39mLuis Alfredo Alvarado Rodríguez\u001b[39m\u001b[39m\"\u001b[39m),\n\u001b[1;32m     21\u001b[0m }\n\u001b[0;32m---> 23\u001b[0m \u001b[39mprint\u001b[39m(create_file(data))\n",
      "Cell \u001b[0;32mIn [4], line 15\u001b[0m, in \u001b[0;36mcreate_file\u001b[0;34m(data)\u001b[0m\n\u001b[1;32m     13\u001b[0m \u001b[39mfor\u001b[39;00m key, value \u001b[39min\u001b[39;00m data\u001b[39m.\u001b[39mitems():\n\u001b[1;32m     14\u001b[0m     members \u001b[39m=\u001b[39m \u001b[39m'\u001b[39m\u001b[39m\\\\\u001b[39;00m\u001b[39m\\\\\u001b[39;00m\u001b[39m\\n\u001b[39;00m\u001b[39m'\u001b[39m\u001b[39m.\u001b[39mjoin(value)\n\u001b[0;32m---> 15\u001b[0m     team_sections \u001b[39m+\u001b[39m\u001b[39m=\u001b[39m team_section\u001b[39m.\u001b[39;49mformat(team_title\u001b[39m=\u001b[39;49mkey, team_members\u001b[39m=\u001b[39;49mmembers)\n\u001b[1;32m     16\u001b[0m \u001b[39mreturn\u001b[39;00m template\u001b[39m.\u001b[39mformat(team_sections\u001b[39m=\u001b[39mteam_sections)\n",
      "\u001b[0;31mValueError\u001b[0m: Single '}' encountered in format string"
     ]
    }
   ],
   "source": [
    "template = \"\"\"\n",
    "{{\\\\Bold \\\\LARGE EQUIPO RESPONSABLE}}\\\\\\\\[2cm]\n",
    "{team_sections}\n",
    "\"\"\"\n",
    "\n",
    "team_section = \"\"\"\n",
    "{{\\\\Bold \\\\large \\\\color{{color1!89!black}} {team_title}}}}\\\\\\\\[0.2cm]\n",
    "{team_members}\\\\\\\\[0.8cm]\n",
    "\"\"\"\n",
    "\n",
    "def create_file(data):\n",
    "    team_sections = ''\n",
    "    for key, value in data.items():\n",
    "        members = '\\\\\\\\\\n'.join(value)\n",
    "        team_sections += team_section.format(team_title=key, team_members=members)\n",
    "    return template.format(team_sections=team_sections)\n",
    "\n",
    "data = {\n",
    "    \"EQUIPO TÉCNICO\": (\"Brenda Izabel Miranda Consuegra\", \"Werner Santos Salguero García\", \"Hugo Allan García Monterrosa\", \"Henry Efraín Coc Ramírez\", \"Eslie Mercedes Pérez Ruiz\", \"Donald Estuardo Schaad Moz\", \"Francisco Javier Romero Celis\"),\n",
    "    \"DIAGRAMACIÓN Y DISEÑO\": (\"Andrea Michelle Rojas Salvatierra\", \"Luis Alfredo Alvarado Rodríguez\"),\n",
    "}\n",
    "\n",
    "print(create_file(data))\n"
   ]
  },
  {
   "cell_type": "code",
   "execution_count": null,
   "metadata": {},
   "outputs": [],
   "source": []
  }
 ],
 "metadata": {
  "kernelspec": {
   "display_name": "Python 3.11.2 64-bit",
   "language": "python",
   "name": "python3"
  },
  "language_info": {
   "codemirror_mode": {
    "name": "ipython",
    "version": 3
   },
   "file_extension": ".py",
   "mimetype": "text/x-python",
   "name": "python",
   "nbconvert_exporter": "python",
   "pygments_lexer": "ipython3",
   "version": "3.11.2"
  },
  "orig_nbformat": 4,
  "vscode": {
   "interpreter": {
    "hash": "aee8b7b246df8f9039afb4144a1f6fd8d2ca17a180786b69acc140d282b71a49"
   }
  }
 },
 "nbformat": 4,
 "nbformat_minor": 2
}
