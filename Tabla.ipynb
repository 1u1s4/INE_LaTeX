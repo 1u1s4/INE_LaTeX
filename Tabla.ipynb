{
 "cells": [
  {
   "cell_type": "code",
   "execution_count": 1,
   "metadata": {},
   "outputs": [],
   "source": [
    "from datosipc import datosIPC\n",
    "import pandas as pd"
   ]
  },
  {
   "cell_type": "code",
   "execution_count": 2,
   "metadata": {},
   "outputs": [],
   "source": [
    "def export_to_longtable(df: pd.DataFrame, filename: str, header: bool=True, decimals: int=2):\n",
    "    \"\"\"\n",
    "    Exporta un dataframe a un longtable de LaTeX en un archivo.\n",
    "    \n",
    "    Parameters:\n",
    "    df (pandas.DataFrame): DataFrame a exportar.\n",
    "    filename (str): Nombre del archivo a guardar.\n",
    "    caption (str): Leyenda de la tabla.\n",
    "    column_format (str): Cadena que describe el formato de las columnas.\n",
    "    header (bool): Si True, muestra el encabezado de la tabla.\n",
    "    decimals (int): Cantidad de decimales para los números. Si el valor no es numérico, se muestra tal cual.\n",
    "    \"\"\"\n",
    "    with open(filename, 'w', encoding=\"utf-8\") as f:\n",
    "        f.write('\\\\begin{longtable}{' + 'c'*len(df.columns) + '}\\n')\n",
    "        f.write('\\\\toprule\\n')\n",
    "        \n",
    "        # Escribir el encabezado\n",
    "        if header:\n",
    "            f.write(' & '.join([col.replace('_', '\\\\_') for col in df.columns]))\n",
    "            f.write('\\\\\\\\\\\\midrule\\n')\n",
    "        \n",
    "        f.write('\\\\endfirsthead\\n')\n",
    "        f.write('\\\\multicolumn{' + str(len(df.columns)) + '}{c}{{\\\\bfseries \\\\tablename\\\\ \\\\thetable{} -- '\n",
    "                'Continuación de la página anterior}}\\\\\\\\\\n')\n",
    "        f.write('\\\\toprule\\n')\n",
    "        if header:\n",
    "            f.write(' & '.join([col.replace('_', '\\\\_') for col in df.columns]))\n",
    "            f.write('\\\\\\\\\\\\midrule\\n')\n",
    "        f.write('\\\\endhead\\n')\n",
    "        f.write('\\\\midrule\\n')\n",
    "        f.write('\\\\multicolumn{' + str(len(df.columns)) + '}{r}{{Continúa en la siguiente página}}\\\\\\\\\\n')\n",
    "        f.write('\\\\endfoot\\n')\n",
    "        f.write('\\\\bottomrule\\n')\n",
    "        f.write('\\\\endlastfoot\\n')\n",
    "        \n",
    "        # Escribir los datos\n",
    "        import re\n",
    "        for _, row in df.iterrows():\n",
    "            values = []\n",
    "            for value in row:\n",
    "                if pd.isna(value):\n",
    "                    values.append('')\n",
    "                elif isinstance(value, (int, float)):\n",
    "                    valor = round(value, decimals)\n",
    "                    if re.match(r\"^[-]0\\.0*$\", str(valor)):\n",
    "                        valor = int(valor)\n",
    "                    valor = '{:.{}f}'.format(valor, decimals)\n",
    "                    values.append(valor)\n",
    "                else:\n",
    "                    values.append(str(value))\n",
    "            f.write(' & '.join(values))\n",
    "            f.write('\\\\\\\\\\n')\n",
    "        \n",
    "        f.write('\\\\end{longtable}\\n')"
   ]
  },
  {
   "cell_type": "code",
   "execution_count": 3,
   "metadata": {},
   "outputs": [],
   "source": [
    "p = datosIPC(2023, 3, dbBackup=True)"
   ]
  },
  {
   "cell_type": "code",
   "execution_count": 4,
   "metadata": {},
   "outputs": [
    {
     "data": {
      "text/plain": [
       "Index(['Fecha', 'IPC', 'Variación mensual', 'Ritmo inflacionario'], dtype='object')"
      ]
     },
     "execution_count": 4,
     "metadata": {},
     "output_type": "execute_result"
    }
   ],
   "source": [
    "df = p.tabla_series_historicas()[0]\n",
    "df.columns"
   ]
  },
  {
   "cell_type": "code",
   "execution_count": 5,
   "metadata": {},
   "outputs": [],
   "source": [
    "export_to_longtable(df=df, filename='prueba.tex')"
   ]
  },
  {
   "cell_type": "code",
   "execution_count": null,
   "metadata": {},
   "outputs": [],
   "source": []
  }
 ],
 "metadata": {
  "kernelspec": {
   "display_name": "Python 3.11.2 64-bit",
   "language": "python",
   "name": "python3"
  },
  "language_info": {
   "codemirror_mode": {
    "name": "ipython",
    "version": 3
   },
   "file_extension": ".py",
   "mimetype": "text/x-python",
   "name": "python",
   "nbconvert_exporter": "python",
   "pygments_lexer": "ipython3",
   "version": "3.11.2"
  },
  "orig_nbformat": 4,
  "vscode": {
   "interpreter": {
    "hash": "aee8b7b246df8f9039afb4144a1f6fd8d2ca17a180786b69acc140d282b71a49"
   }
  }
 },
 "nbformat": 4,
 "nbformat_minor": 2
}
